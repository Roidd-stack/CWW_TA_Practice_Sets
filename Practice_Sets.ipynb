{
  "nbformat": 4,
  "nbformat_minor": 0,
  "metadata": {
    "colab": {
      "provenance": []
    },
    "kernelspec": {
      "name": "python3",
      "display_name": "Python 3"
    },
    "language_info": {
      "name": "python"
    }
  },
  "cells": [
    {
      "cell_type": "code",
      "execution_count": null,
      "metadata": {
        "id": "EUaCf4fkOWy9"
      },
      "outputs": [],
      "source": [
        "\"\"\"\n",
        "PSet 1\n",
        "Create a to-do list containing your daily To-dos using either a list or a tuple\n",
        "Perform some operations to get a particular day to-do one after the other, and add the operation that shows all your to-dos for the days accordingly\n",
        "\n",
        "\"\"\""
      ]
    },
    {
      "cell_type": "code",
      "source": [
        "#The to_do list is created\n",
        "Mon = \"Monday: Get to work\"\n",
        "Tue = \"Tuesday: Attend programming class\"\n",
        "Wed = \"Wednesday: Go to the gym\"\n",
        "Thur = \"Thursday: Work from home\"\n",
        "Fri = \"Friday: Spend a latenight outside\"\n",
        "Sat = \"Saturday: Play football and do laundry\"\n",
        "Sun = \"Sunday: Go to church and prepare for work\"\n"
      ],
      "metadata": {
        "id": "3ikZ0E-EE8HC"
      },
      "execution_count": 37,
      "outputs": []
    },
    {
      "cell_type": "code",
      "source": [
        "#The to_do list is unpacked\n",
        "to_do = [Mon, Tue, Wed, Thur, Fri, Sat, Sun]\n",
        "mon_routine, tue_routine, wed_routine, thur_routine, fri_routine, sat_routine, sun_routine = to_do\n",
        "print(wed_routine)"
      ],
      "metadata": {
        "colab": {
          "base_uri": "https://localhost:8080/"
        },
        "id": "OfDIRdQ9-O5c",
        "outputId": "6f7dfcd5-8462-480b-e5b4-4182b86970e9"
      },
      "execution_count": 43,
      "outputs": [
        {
          "output_type": "stream",
          "name": "stdout",
          "text": [
            "Wednesday: Go to the gym\n"
          ]
        }
      ]
    },
    {
      "cell_type": "code",
      "source": [
        "#I added an extra day and used an iteration to print the whole to_do list\n",
        "extra_day = \"Extra_day: See a movie\"\n",
        "to_do.append(extra_day)\n",
        "for schedule in to_do:\n",
        "  print (schedule)"
      ],
      "metadata": {
        "colab": {
          "base_uri": "https://localhost:8080/"
        },
        "collapsed": true,
        "id": "RPK5JdymIuSg",
        "outputId": "a0eb6a1a-3571-4b93-ea51-7a9dc2c5de78"
      },
      "execution_count": 39,
      "outputs": [
        {
          "output_type": "stream",
          "name": "stdout",
          "text": [
            "Monday: Get to work\n",
            "Tuesday: Attend programming class\n",
            "Wednesday: Go to the gym\n",
            "Thursday: Work from home\n",
            "Friday: Spend a latenight outside\n",
            "Saturday: Play football and do laundry\n",
            "Sunday: Go to church and prepare for work\n",
            "Extra_day: See a movie\n"
          ]
        }
      ]
    },
    {
      "cell_type": "code",
      "source": [
        "\"\"\"\n",
        "PSet 2\n",
        "Create a dictionary that contains your basic bio info, which must have properties of skills which is a list of your skills\n",
        "\n",
        "\"\"\""
      ],
      "metadata": {
        "id": "_Pm6llESQOlu"
      },
      "execution_count": null,
      "outputs": []
    },
    {
      "cell_type": "code",
      "source": [
        "#I created a dictionary here containing some basic info and my skills\n",
        "my_bio = {\n",
        "    \"Name\":\"Anthony\",\n",
        "    \"Age\":\"23\",\n",
        "    \"Nationality\":\"Nigerian\",\n",
        "    \"Skill_1\":\"Graphics Design\",\n",
        "    \"Skill_2\":\"Programming\",\n",
        "    \"Skill_3\":\"Photography\"\n",
        "\n",
        "}"
      ],
      "metadata": {
        "id": "f9Ihq4eRQBhG"
      },
      "execution_count": 55,
      "outputs": []
    },
    {
      "cell_type": "code",
      "source": [
        "\"\"\"\n",
        "Loop through your bio dictionary and print the keys and values to stdout, for skills\n",
        "Make skills as a heading and print out all the skills out\n",
        "\n",
        "\"\"\""
      ],
      "metadata": {
        "id": "H7uEspNrQ6EU"
      },
      "execution_count": null,
      "outputs": []
    },
    {
      "cell_type": "code",
      "source": [
        "# Here the keys and values in the dictionary are printed to stdout\n",
        "for key,value in my_bio.items():\n",
        "  print(f\"My {key} is {value}\")"
      ],
      "metadata": {
        "id": "dlXQgn1NSy_Q"
      },
      "execution_count": null,
      "outputs": []
    },
    {
      "cell_type": "code",
      "source": [
        "skills = [my_bio[\"Skill_1\"], my_bio[\"Skill_2\"], my_bio[\"Skill_3\"]]\n",
        "for skillsets in skills:\n",
        "  print(f\"My skillsets include {skillsets}\")\n"
      ],
      "metadata": {
        "colab": {
          "base_uri": "https://localhost:8080/"
        },
        "id": "jn_qg0NFTQEI",
        "outputId": "36623eab-43b1-4018-d0e4-03eb0f0664b8"
      },
      "execution_count": 57,
      "outputs": [
        {
          "output_type": "stream",
          "name": "stdout",
          "text": [
            "My skillsets include Graphics Design\n",
            "My skillsets include Programming\n",
            "My skillsets include Photography\n"
          ]
        }
      ]
    },
    {
      "cell_type": "code",
      "source": [
        "\"\"\"\n",
        "Use a lambda expression to double each items in list of range 1-50 using list comprehnsion\n",
        "\n",
        "\"\"\""
      ],
      "metadata": {
        "id": "BANcuf3-RWGf"
      },
      "execution_count": null,
      "outputs": []
    },
    {
      "cell_type": "code",
      "source": [
        "operation= [(lambda x: x**2)(x) for x in range(1,51)]\n",
        "print(operation)"
      ],
      "metadata": {
        "colab": {
          "base_uri": "https://localhost:8080/"
        },
        "id": "i2UBvjDHXv16",
        "outputId": "e88cdd9d-fc63-4449-fe28-dbc24b073981"
      },
      "execution_count": 70,
      "outputs": [
        {
          "output_type": "stream",
          "name": "stdout",
          "text": [
            "[1, 4, 9, 16, 25, 36, 49, 64, 81, 100, 121, 144, 169, 196, 225, 256, 289, 324, 361, 400, 441, 484, 529, 576, 625, 676, 729, 784, 841, 900, 961, 1024, 1089, 1156, 1225, 1296, 1369, 1444, 1521, 1600, 1681, 1764, 1849, 1936, 2025, 2116, 2209, 2304, 2401, 2500]\n"
          ]
        }
      ]
    }
  ]
}